{
 "cells": [
  {
   "cell_type": "markdown",
   "metadata": {},
   "source": [
    "# Advanced Python Skills"
   ]
  },
  {
   "cell_type": "markdown",
   "metadata": {},
   "source": [
    "# Contents:\n",
    "    Extra_1. Anonymous variable\n",
    "    Extra_2. String Concatenation\n",
    "    Extra_3. Slicing\n",
    "    Extra_4. import sys (Model)\n",
    "    Extra_5. Most frequent item in the list\n",
    "    1. List Comprehension\n",
    "    2. Generator\n",
    "    3. Enumerate\n",
    "    4. Zip\n",
    "    5. Args & Kwargs\n",
    "    6. First-class Function\n",
    "    7. Closures\n",
    "    8. Decorator\n",
    "    9. Property Decorators (OOP)\n",
    "    10. Magic/Dunder Methods (OOP)\n",
    "    11. Map\n",
    "    12. Filter\n",
    "    13. Lambda\n",
    "    14. if __name__ == '__main__':"
   ]
  },
  {
   "cell_type": "markdown",
   "metadata": {},
   "source": [
    "## Extra_1. Anonymous variable"
   ]
  },
  {
   "cell_type": "code",
   "execution_count": 2,
   "metadata": {},
   "outputs": [
    {
     "data": {
      "text/plain": [
       "[['hello'], ['hello'], ['hello'], ['hello'], ['hello']]"
      ]
     },
     "execution_count": 2,
     "metadata": {},
     "output_type": "execute_result"
    }
   ],
   "source": [
    "my_list = [['hello'] for i in range(5)]\n",
    "my_list"
   ]
  },
  {
   "cell_type": "code",
   "execution_count": 3,
   "metadata": {},
   "outputs": [
    {
     "data": {
      "text/plain": [
       "[['hello'], ['hello'], ['hello'], ['hello'], ['hello']]"
      ]
     },
     "execution_count": 3,
     "metadata": {},
     "output_type": "execute_result"
    }
   ],
   "source": [
    "# We use anonymous variable when we don't want to use the iterate varible.\n",
    "my_list = [['hello'] for _ in range(5)] # We use '_' to indicate.\n",
    "my_list"
   ]
  },
  {
   "cell_type": "markdown",
   "metadata": {},
   "source": [
    "## Extra_2. String Concatenation"
   ]
  },
  {
   "cell_type": "code",
   "execution_count": 5,
   "metadata": {},
   "outputs": [
    {
     "name": "stdout",
     "output_type": "stream",
     "text": [
      "hellomynameispaul\n",
      "hello-my-name-is-paul\n"
     ]
    }
   ],
   "source": [
    "# If we have a list of strings like so: \n",
    "words = ['hello', 'my', 'name', 'is', 'paul']\n",
    "# we can concatenate each substring into a string using \".join()\"\n",
    "s = ''.join(words)\n",
    "print(s)\n",
    "d = '-'.join(words)\n",
    "print(d)"
   ]
  },
  {
   "cell_type": "markdown",
   "metadata": {},
   "source": [
    "## Extra_3.  Slicing"
   ]
  },
  {
   "cell_type": "code",
   "execution_count": 12,
   "metadata": {
    "scrolled": true
   },
   "outputs": [
    {
     "data": {
      "text/plain": [
       "[2, 4, 6, 8]"
      ]
     },
     "execution_count": 12,
     "metadata": {},
     "output_type": "execute_result"
    }
   ],
   "source": [
    "# 1. List Slicing: ['Starting point (inclusive)':'Ending point (exclusive)':'Step']\n",
    "my_list = [i for i in range(10)]\n",
    "my_list[2::2]"
   ]
  },
  {
   "cell_type": "code",
   "execution_count": 17,
   "metadata": {},
   "outputs": [
    {
     "data": {
      "text/plain": [
       "'olleh'"
      ]
     },
     "execution_count": 17,
     "metadata": {},
     "output_type": "execute_result"
    }
   ],
   "source": [
    "# 2. String Slicing: \n",
    "ms = 'hello'\n",
    "ms[::-1]"
   ]
  },
  {
   "cell_type": "markdown",
   "metadata": {},
   "source": [
    "## Extra_4. import sys (Model)"
   ]
  },
  {
   "cell_type": "code",
   "execution_count": 22,
   "metadata": {},
   "outputs": [
    {
     "name": "stdout",
     "output_type": "stream",
     "text": [
      "88\n",
      "54\n"
     ]
    }
   ],
   "source": [
    "# using sys model, you can track how many Bites of memory the variable takes in. \n",
    "import sys\n",
    "x = [1,2,3,4]\n",
    "y = 'Hello'\n",
    "print(sys.getsizeof(x))\n",
    "print(sys.getsizeof(y))"
   ]
  },
  {
   "cell_type": "markdown",
   "metadata": {},
   "source": [
    "## Extra_5. Most frequent item in the list"
   ]
  },
  {
   "cell_type": "code",
   "execution_count": 29,
   "metadata": {},
   "outputs": [
    {
     "name": "stdout",
     "output_type": "stream",
     "text": [
      "1\n"
     ]
    }
   ],
   "source": [
    "# When we use 'max' or 'min' functions to compare, \n",
    "# We can use 'key' arg to serves as a key for the min/max comparison.\n",
    "\n",
    "x = [1,2,3,4,5,6,1,2,1,1,1,2,3,2,2,3]\n",
    "print(max(x, key=x.count))"
   ]
  },
  {
   "cell_type": "code",
   "execution_count": 33,
   "metadata": {},
   "outputs": [
    {
     "name": "stdout",
     "output_type": "stream",
     "text": [
      "(1, 2)\n",
      "(5, 6)\n"
     ]
    }
   ],
   "source": [
    "# We can also use 'lambda' to state the criteria of the key.\n",
    "x = [(1,2), (3,4), (5,6)]\n",
    "print(min(x, key= lambda y: y[1]))\n",
    "print(max(x, key= lambda y: y[1]))\n",
    "\n",
    "# For more info:\n",
    "# https://www.geeksforgeeks.org/use-of-min-and-max-in-python/"
   ]
  },
  {
   "cell_type": "markdown",
   "metadata": {},
   "source": [
    "## 1. List Comprehension"
   ]
  },
  {
   "cell_type": "code",
   "execution_count": 50,
   "metadata": {},
   "outputs": [
    {
     "data": {
      "text/plain": [
       "[0, 1, 2, 3, 4, 5, 6, 7, 8, 9]"
      ]
     },
     "execution_count": 50,
     "metadata": {},
     "output_type": "execute_result"
    }
   ],
   "source": [
    "my_list = []\n",
    "for i in range(10):\n",
    "    my_list.append(i)\n",
    "my_list"
   ]
  },
  {
   "cell_type": "code",
   "execution_count": 51,
   "metadata": {},
   "outputs": [
    {
     "data": {
      "text/plain": [
       "[0, 1, 2, 3, 4, 5, 6, 7, 8, 9]"
      ]
     },
     "execution_count": 51,
     "metadata": {},
     "output_type": "execute_result"
    }
   ],
   "source": [
    "# much easier way to create a list\n",
    "my_list_1 = [i for i in range(10)]\n",
    "my_list_1"
   ]
  },
  {
   "cell_type": "code",
   "execution_count": 8,
   "metadata": {},
   "outputs": [
    {
     "name": "stdout",
     "output_type": "stream",
     "text": [
      "2\n",
      "4\n",
      "6\n",
      "8\n",
      "10\n"
     ]
    }
   ],
   "source": [
    "# adding more conditions on ONE LINE\n",
    "my_list_2 = [print(i+1) for i in range(10) if i % 2 == 1 ]"
   ]
  },
  {
   "cell_type": "markdown",
   "metadata": {},
   "source": [
    "## 2. Generator"
   ]
  },
  {
   "cell_type": "code",
   "execution_count": 34,
   "metadata": {},
   "outputs": [
    {
     "name": "stdout",
     "output_type": "stream",
     "text": [
      "my_doubles is a <class 'list'>\n",
      "[0, 2, 4, 6, 8, 10]\n"
     ]
    }
   ],
   "source": [
    "def doubles(num):\n",
    "    results = []\n",
    "    for i in range(num):\n",
    "        results.append(i*2)\n",
    "    return results\n",
    "\n",
    "my_doubles = doubles(6)\n",
    "print(f'my_doubles is a {type(my_doubles)}')\n",
    "print(my_doubles)"
   ]
  },
  {
   "cell_type": "markdown",
   "metadata": {},
   "source": [
    "A list loads all of it's items before anything else happens.\n",
    "A generator yield one item at a time while the program is running,\n",
    "so you aren't waiting for the whole sequence to load at once."
   ]
  },
  {
   "cell_type": "code",
   "execution_count": 32,
   "metadata": {},
   "outputs": [
    {
     "name": "stdout",
     "output_type": "stream",
     "text": [
      "my_doubles is a <class 'generator'>\n",
      "0\n",
      "2\n",
      "4\n",
      "6\n",
      "8\n",
      "10\n"
     ]
    }
   ],
   "source": [
    "def doubles(num):\n",
    "    for i in range(num):\n",
    "        yield (i*2)\n",
    "        \n",
    "my_doubles_1 = doubles(6)\n",
    "print(f'my_doubles is a {type(my_doubles)}')\n",
    "\n",
    "# to generate a single number\n",
    "print(next(my_doubles_1))\n",
    "\n",
    "# to generate all numbers \n",
    "for double in my_doubles_1:\n",
    "    print(double)"
   ]
  },
  {
   "cell_type": "code",
   "execution_count": 29,
   "metadata": {},
   "outputs": [
    {
     "name": "stdout",
     "output_type": "stream",
     "text": [
      "my_doubles_2 is a <class 'list'>\n",
      "my_doubles_3 is a <class 'generator'>\n"
     ]
    }
   ],
   "source": [
    "my_doubles_2 = [i*2 for i in range(6)] # with []\n",
    "print(f'my_doubles_2 is a {type(my_doubles_2)}')\n",
    "\n",
    "my_doubles_3 = (i*2 for i in range(6)) # with ()\n",
    "print(f'my_doubles_3 is a {type(my_doubles_3)}')"
   ]
  },
  {
   "cell_type": "code",
   "execution_count": 30,
   "metadata": {},
   "outputs": [
    {
     "name": "stdout",
     "output_type": "stream",
     "text": [
      "Now, my_doubles_3 is a <class 'generator'>\n"
     ]
    }
   ],
   "source": [
    "my_doubles_3 = [my_doubles_3]\n",
    "print(f'Now, my_doubles_3 is a {type(my_doubles_3)}')"
   ]
  },
  {
   "cell_type": "markdown",
   "metadata": {},
   "source": [
    "## 3. Enumerate"
   ]
  },
  {
   "cell_type": "code",
   "execution_count": 40,
   "metadata": {},
   "outputs": [
    {
     "name": "stdout",
     "output_type": "stream",
     "text": [
      "0 Bob\n",
      "1 Mary\n",
      "2 Juliet\n",
      "3 Steve\n"
     ]
    }
   ],
   "source": [
    "student_list = ['Bob', 'Mary', 'Juliet', 'Steve']\n",
    "for i in range(len(student_list)):\n",
    "    print(i, student_list[i])"
   ]
  },
  {
   "cell_type": "code",
   "execution_count": 49,
   "metadata": {},
   "outputs": [
    {
     "name": "stdout",
     "output_type": "stream",
     "text": [
      "0 Bob\n",
      "1 Mary\n",
      "2 Juliet\n",
      "3 Steve\n"
     ]
    }
   ],
   "source": [
    "student_list = ['Bob', 'Mary', 'Juliet', 'Steve']\n",
    "for i,v in enumerate(student_list):\n",
    "     print(i,v) # i is the index, v is the value. Note: i&v can be changed to any value"
   ]
  },
  {
   "cell_type": "code",
   "execution_count": 56,
   "metadata": {},
   "outputs": [
    {
     "name": "stdout",
     "output_type": "stream",
     "text": [
      "student_list is a <class 'enumerate'> object\n"
     ]
    },
    {
     "data": {
      "text/plain": [
       "{0: 'Bob', 1: 'Mary', 2: 'Juliet', 3: 'Steve'}"
      ]
     },
     "execution_count": 56,
     "metadata": {},
     "output_type": "execute_result"
    }
   ],
   "source": [
    "print(f'student_list is a {type(enumerate(student_list))} object')\n",
    "\n",
    "student_dict = dict(enumerate(student_list))\n",
    "student_dict "
   ]
  },
  {
   "cell_type": "markdown",
   "metadata": {},
   "source": [
    "## 4. Zip"
   ]
  },
  {
   "cell_type": "code",
   "execution_count": 68,
   "metadata": {},
   "outputs": [
    {
     "name": "stdout",
     "output_type": "stream",
     "text": [
      "1 a Bob\n",
      "2 b Mary\n",
      "3 c Juliet\n",
      "4 d Steve\n"
     ]
    }
   ],
   "source": [
    "x = [1, 2, 3, 4]\n",
    "y = ['a', 'b', 'c', 'd']\n",
    "z = ['Bob', 'Mary', 'Juliet', 'Steve'] \n",
    "# zip statement requires len(list) to be same, if not, it will only generate the shortest length of that list \n",
    "\n",
    "for i, j, k in zip (x, y, z):\n",
    "    print (i, j, k)"
   ]
  },
  {
   "cell_type": "code",
   "execution_count": 66,
   "metadata": {},
   "outputs": [
    {
     "data": {
      "text/plain": [
       "[(1, 'a', 'Bob'), (2, 'b', 'Mary'), (3, 'c', 'Juliet'), (4, 'd', 'Steve')]"
      ]
     },
     "execution_count": 66,
     "metadata": {},
     "output_type": "execute_result"
    }
   ],
   "source": [
    "list(zip (x, y, z))"
   ]
  },
  {
   "cell_type": "markdown",
   "metadata": {},
   "source": [
    "## 5. Args & Kwargs "
   ]
  },
  {
   "cell_type": "markdown",
   "metadata": {},
   "source": [
    "  *args or ** Kwargs means you are allowed to pass any arbitrary number of parameters."
   ]
  },
  {
   "cell_type": "code",
   "execution_count": 69,
   "metadata": {},
   "outputs": [
    {
     "name": "stdout",
     "output_type": "stream",
     "text": [
      "Bob\n",
      "Mary\n",
      "Juliet\n",
      "Steve\n",
      "Jerry\n"
     ]
    }
   ],
   "source": [
    "def my_func(arg1, *args):\n",
    "    print(arg1)\n",
    "    for arg in args:\n",
    "        print(arg)\n",
    "\n",
    "my_func('Bob', 'Mary', 'Juliet', 'Steve','Jerry')"
   ]
  },
  {
   "cell_type": "code",
   "execution_count": 70,
   "metadata": {},
   "outputs": [
    {
     "name": "stdout",
     "output_type": "stream",
     "text": [
      "key1 Bob\n",
      "key2 Mary\n",
      "key3 Juliet\n"
     ]
    }
   ],
   "source": [
    "def my_func(**kwargs):\n",
    "    for key, value in kwargs.items():\n",
    "        print(key, value)\n",
    "\n",
    "my_func(key1 ='Bob',key2= 'Mary', key3='Juliet')"
   ]
  },
  {
   "cell_type": "markdown",
   "metadata": {},
   "source": [
    "*args indicatas each item in that list, whereas **kwargs is dict"
   ]
  },
  {
   "cell_type": "code",
   "execution_count": 72,
   "metadata": {},
   "outputs": [
    {
     "name": "stdout",
     "output_type": "stream",
     "text": [
      "60\n"
     ]
    }
   ],
   "source": [
    "def mult(a,b,c):\n",
    "    return a*b*c\n",
    "\n",
    "numbers= (2,5,6) \n",
    "print(mult(*numbers)) # * is needed because we want to use *args "
   ]
  },
  {
   "cell_type": "markdown",
   "metadata": {},
   "source": [
    "## 6. First-class Function "
   ]
  },
  {
   "cell_type": "markdown",
   "metadata": {},
   "source": [
    "Step 1: Understand that function can become a variable "
   ]
  },
  {
   "cell_type": "code",
   "execution_count": 79,
   "metadata": {},
   "outputs": [
    {
     "name": "stdout",
     "output_type": "stream",
     "text": [
      "25\n",
      "<function square at 0x7f931b053040>\n"
     ]
    }
   ],
   "source": [
    "def square(x):\n",
    "    return x * x\n",
    "\n",
    "f = square(5)\n",
    "print (f)\n",
    "print (square) \n",
    "\n",
    "# if we call the function name without giving a value, it is a function type"
   ]
  },
  {
   "cell_type": "code",
   "execution_count": 80,
   "metadata": {},
   "outputs": [
    {
     "name": "stdout",
     "output_type": "stream",
     "text": [
      "<function square at 0x7f931af96550>\n",
      "<function square at 0x7f931af96550>\n"
     ]
    }
   ],
   "source": [
    "def square(x):\n",
    "    return x * x\n",
    "\n",
    "f = square\n",
    "print (f)\n",
    "print (square)\n",
    "\n",
    "# we can set a variable to that function "
   ]
  },
  {
   "cell_type": "markdown",
   "metadata": {},
   "source": [
    "Step 2: Understand that function can be used in another function as a parameter."
   ]
  },
  {
   "cell_type": "code",
   "execution_count": 82,
   "metadata": {},
   "outputs": [
    {
     "data": {
      "text/plain": [
       "[1, 4, 9, 16, 25]"
      ]
     },
     "execution_count": 82,
     "metadata": {},
     "output_type": "execute_result"
    }
   ],
   "source": [
    "def square(x):\n",
    "    return x * x\n",
    "\n",
    "def my_map(func, args):\n",
    "    results = []\n",
    "    for arg in args:\n",
    "        results.append(func(arg))\n",
    "    return results \n",
    "\n",
    "squares = my_map(square, [1,2,3,4,5])\n",
    "squares"
   ]
  },
  {
   "cell_type": "markdown",
   "metadata": {},
   "source": [
    "## 7. Closures "
   ]
  },
  {
   "cell_type": "markdown",
   "metadata": {},
   "source": [
    "Closures allow us not to use too many globle varibles "
   ]
  },
  {
   "cell_type": "code",
   "execution_count": 131,
   "metadata": {},
   "outputs": [
    {
     "name": "stdout",
     "output_type": "stream",
     "text": [
      "Hi\n",
      "my_func is a <class 'function'>\n"
     ]
    }
   ],
   "source": [
    "def outer_func():\n",
    "    message = 'Hi'\n",
    "    \n",
    "    def inner_func():\n",
    "        print(message)\n",
    "    \n",
    "    return inner_func\n",
    "\n",
    "\n",
    "my_func = outer_func()  # my_func stores the variable message 'Hi' and return the inner function \n",
    "my_func() # my_func = inner_func with message = 'hi'  ##HOWEVER, message can't be called by outside. \n",
    "print(f'my_func is a {type(my_func)}')"
   ]
  },
  {
   "cell_type": "code",
   "execution_count": 126,
   "metadata": {},
   "outputs": [
    {
     "name": "stdout",
     "output_type": "stream",
     "text": [
      "Hi\n",
      "Hello\n"
     ]
    }
   ],
   "source": [
    "def outer_func(msg):\n",
    "    message = msg\n",
    "    \n",
    "    def inner_func():\n",
    "        print(message)\n",
    "    \n",
    "    return inner_func\n",
    "\n",
    "hi_func = outer_func('Hi') # hi_func stores the variable message 'Hi'\n",
    "hello_func = outer_func('Hello') # hello_func stores the variable message 'Hello'\n",
    "hi_func()\n",
    "hello_func()"
   ]
  },
  {
   "cell_type": "markdown",
   "metadata": {},
   "source": [
    "## 8. Decorator"
   ]
  },
  {
   "cell_type": "markdown",
   "metadata": {},
   "source": [
    "In the previous clousure, we know that we can use a function to store a variable. Like so: "
   ]
  },
  {
   "cell_type": "code",
   "execution_count": 137,
   "metadata": {},
   "outputs": [
    {
     "name": "stdout",
     "output_type": "stream",
     "text": [
      "Hi\n"
     ]
    }
   ],
   "source": [
    "def outer_function():\n",
    "    message = 'Hi'\n",
    "    def inner_function():\n",
    "        print(message)\n",
    "    return inner_function\n",
    "\n",
    "my_function = outer_function() # my_function is inner_function storing message = 'hi'\n",
    "my_function() # it can be executed "
   ]
  },
  {
   "cell_type": "markdown",
   "metadata": {},
   "source": [
    "Likewise, decorator function is a function that stores another FUNCTION. Like so: "
   ]
  },
  {
   "cell_type": "code",
   "execution_count": 138,
   "metadata": {},
   "outputs": [
    {
     "name": "stdout",
     "output_type": "stream",
     "text": [
      "Hello, decorator!\n"
     ]
    }
   ],
   "source": [
    "def outer_function(original):\n",
    "    def inner_function():\n",
    "        return original()\n",
    "    return inner_function\n",
    "\n",
    "def display():\n",
    "    print('Hello, decorator!')\n",
    "\n",
    "my_function = outer_function(display)\n",
    "my_function()"
   ]
  },
  {
   "cell_type": "markdown",
   "metadata": {},
   "source": [
    "Change it a little bit. "
   ]
  },
  {
   "cell_type": "code",
   "execution_count": 143,
   "metadata": {},
   "outputs": [
    {
     "name": "stdout",
     "output_type": "stream",
     "text": [
      "wrapper executed this before the display function\n",
      "display function ran\n"
     ]
    }
   ],
   "source": [
    "def decorator_function(original_function):\n",
    "    def wrapper_function():\n",
    "        print('wrapper executed this before the {} function'.format(original_function.__name__))\n",
    "        return original_function()\n",
    "    return wrapper_function\n",
    "\n",
    "def display():\n",
    "    print('display function ran')\n",
    "\n",
    "decorated_display = decorator_function(display)\n",
    "decorated_display()"
   ]
  },
  {
   "cell_type": "markdown",
   "metadata": {},
   "source": [
    "Decorator can also be simply called by class method @."
   ]
  },
  {
   "cell_type": "code",
   "execution_count": 160,
   "metadata": {},
   "outputs": [
    {
     "name": "stdout",
     "output_type": "stream",
     "text": [
      "wrapper executed this before the display function\n",
      "display function ran\n"
     ]
    }
   ],
   "source": [
    "def decorator_function(original_function):\n",
    "    def wrapper_function():\n",
    "        print('wrapper executed this before the {} function'.format(original_function.__name__))\n",
    "        return original_function()\n",
    "    return wrapper_function\n",
    "\n",
    "@decorator_function\n",
    "def display():\n",
    "    print('display function ran')\n",
    " \n",
    "display()  # no need to assign the variable. "
   ]
  },
  {
   "cell_type": "markdown",
   "metadata": {},
   "source": [
    "HOWEVER! Note that it only works when the inside function takes no argments."
   ]
  },
  {
   "cell_type": "code",
   "execution_count": 159,
   "metadata": {
    "scrolled": true
   },
   "outputs": [
    {
     "name": "stdout",
     "output_type": "stream",
     "text": [
      "wrapper executed this before the display_info function\n",
      "display_info ran with arguments (John, 25)\n"
     ]
    }
   ],
   "source": [
    "def decorator_function(original_function):\n",
    "    def wrapper_function(*args, **kwags): # need to state that this func takes any # of arguments\n",
    "        print('wrapper executed this before the {} function'.format(original_function.__name__))\n",
    "        return original_function(*args,  **kwags)\n",
    "    return wrapper_function\n",
    "\n",
    "@decorator_function\n",
    "def display_info(name, age):\n",
    "    print(f'display_info ran with arguments ({name}, {age})')\n",
    "\n",
    "display_info('John', 25)"
   ]
  },
  {
   "cell_type": "markdown",
   "metadata": {},
   "source": [
    "## 9. Property Decorators (OOP)"
   ]
  },
  {
   "cell_type": "markdown",
   "metadata": {},
   "source": [
    "Property decorators are used to decorate a class attribute as its property\n",
    "Thus, every time you changed the value of that class, the property will automatically be changed as well."
   ]
  },
  {
   "cell_type": "code",
   "execution_count": 193,
   "metadata": {},
   "outputs": [
    {
     "name": "stdout",
     "output_type": "stream",
     "text": [
      "Eden\n",
      "Eden.Wang@gmail.com\n",
      "Eden Wang\n",
      "____________________\n",
      "Smith\n",
      "Eden.Wang@gmail.com\n",
      "Smith Wang\n"
     ]
    }
   ],
   "source": [
    "class NameTag: \n",
    "    def __init__(self, first, last):\n",
    "        self.first = first\n",
    "        self.last = last\n",
    "        self.email = f'{first}.{last}@gmail.com'\n",
    "    \n",
    "    def fullname(self):\n",
    "        return self.first +' '+ self.last \n",
    "\n",
    "ppl_1 = NameTag('Eden', 'Wang')\n",
    "\n",
    "print(ppl_1.first)\n",
    "print(ppl_1.email)\n",
    "print(ppl_1.fullname())\n",
    "print('_'*20)\n",
    "\n",
    "ppl_1.first = 'Smith'  # Note that if we changed the parameter value, email address is still the previous one.\n",
    "\n",
    "print(ppl_1.first)\n",
    "print(ppl_1.email)\n",
    "print(ppl_1.fullname())"
   ]
  },
  {
   "cell_type": "markdown",
   "metadata": {},
   "source": [
    "In order to modify the property of that class instance instead of changing inside.\n",
    "We can use property decorators to do this. "
   ]
  },
  {
   "cell_type": "code",
   "execution_count": 211,
   "metadata": {},
   "outputs": [
    {
     "name": "stdout",
     "output_type": "stream",
     "text": [
      "Eden\n",
      "Eden.Wang@gmail.com\n",
      "Eden Wang\n",
      "____________________\n",
      "Smith\n",
      "Smith.Wang@gmail.com\n",
      "Smith Wang\n",
      "____________________\n",
      "John\n",
      "John.Harris@gmail.com\n",
      "John Harris\n",
      "____________________\n",
      "Delete Name!\n",
      "None\n"
     ]
    }
   ],
   "source": [
    "class NameTag: \n",
    "    def __init__(self, first, last):\n",
    "        self.first = first\n",
    "        self.last = last\n",
    "    \n",
    "    @property\n",
    "    def email(self):\n",
    "        return f'{self.first}.{self.last}@gmail.com'\n",
    "    \n",
    "    @property\n",
    "    def fullname(self):\n",
    "        return self.first +' '+ self.last \n",
    "    \n",
    "    @fullname.setter  # allows us to modify full name by changing the fullname attribute\n",
    "    def fullname(self, name):\n",
    "        first, last = name.split()\n",
    "        self.first = first\n",
    "        self.last = last\n",
    "\n",
    "    @fullname.deleter \n",
    "    def fullname(self):\n",
    "        print('Delete Name!')\n",
    "        self.first = None\n",
    "        self.last = None\n",
    "        \n",
    "\n",
    "ppl_1 = NameTag('Eden', 'Wang')\n",
    "\n",
    "print(ppl_1.first)\n",
    "print(ppl_1.email)\n",
    "print(ppl_1.fullname)\n",
    "print('_'*20)\n",
    "\n",
    "ppl_1.first = 'Smith'  \n",
    "# Note that when adding property decorator, no need to add (), as it's just a property instead of a method\n",
    "\n",
    "print(ppl_1.first)\n",
    "print(ppl_1.email)\n",
    "print(ppl_1.fullname)\n",
    "print('_'*20)\n",
    "\n",
    "ppl_1.fullname = 'John Harris'\n",
    "print(ppl_1.first)\n",
    "print(ppl_1.email)\n",
    "print(ppl_1.fullname)\n",
    "print('_'*20)\n",
    "\n",
    "del ppl_1.fullname\n",
    "print(ppl_1.first)\n"
   ]
  },
  {
   "cell_type": "markdown",
   "metadata": {},
   "source": [
    "## 10. Magic/Dunder Methods (OOP)"
   ]
  },
  {
   "cell_type": "markdown",
   "metadata": {},
   "source": [
    "In general, Magic/Dunder methods are __XX__(self):\n",
    "which can be called by using XX(). such as repr(), str()"
   ]
  },
  {
   "cell_type": "code",
   "execution_count": 2,
   "metadata": {},
   "outputs": [
    {
     "name": "stdout",
     "output_type": "stream",
     "text": [
      "<__main__.Employee object at 0x7f84686897f0>\n"
     ]
    }
   ],
   "source": [
    "class Employee: \n",
    "    def __init__(self, first, last, salary):\n",
    "        self.first = first\n",
    "        self.last = last\n",
    "        self.salary = salary\n",
    "\n",
    "    \n",
    "emp_1 = Employee('Jennifer', 'Young', 500000)\n",
    "print(emp_1) # if we don't have __repr__method, we will get class object by calling the instance"
   ]
  },
  {
   "cell_type": "code",
   "execution_count": 5,
   "metadata": {},
   "outputs": [
    {
     "name": "stdout",
     "output_type": "stream",
     "text": [
      "Employee(Jennifer, Young, 500000)\n"
     ]
    }
   ],
   "source": [
    "class Employee: \n",
    "    def __init__(self, first, last, salary):\n",
    "        self.first = first\n",
    "        self.last = last\n",
    "        self.salary = salary\n",
    "    \n",
    "    def __repr__(self):\n",
    "        return f'Employee({self.first}, {self.last}, {self.salary})'\n",
    "    \n",
    "    \n",
    "emp_1 = Employee('Jennifer', 'Young', 500000)\n",
    "print(emp_1) "
   ]
  },
  {
   "cell_type": "code",
   "execution_count": null,
   "metadata": {},
   "outputs": [],
   "source": [
    "\"\"\"\n",
    "Difference between __repr__ and __str__ :\n",
    "\n",
    "The goal of __repr__ is to be unambiguous  (more suitable for programmer)\n",
    "\n",
    "The goal of __str__ is to be readable   (more suitable for non-programmer)\n",
    "\n",
    "\"\"\""
   ]
  },
  {
   "cell_type": "code",
   "execution_count": 9,
   "metadata": {},
   "outputs": [
    {
     "name": "stdout",
     "output_type": "stream",
     "text": [
      "it is a str magic method\n",
      "Employee(Jennifer, Young, 500000)\n",
      "Jennifer Young and James\n"
     ]
    }
   ],
   "source": [
    "class Employee: \n",
    "    def __init__(self, first, last, salary):\n",
    "        self.first = first\n",
    "        self.last = last\n",
    "        self.salary = salary\n",
    "    \n",
    "    def __repr__(self):\n",
    "        return f'Employee({self.first}, {self.last}, {self.salary})'\n",
    "    \n",
    "    def __str__(self):\n",
    "        return 'it is a str magic method'\n",
    "    \n",
    "    def __add__(self, other):\n",
    "        return f'{self.first} {self.last} and {other}'\n",
    "    \n",
    "    \n",
    "    \n",
    "emp_1 = Employee('Jennifer', 'Young', 500000)\n",
    "print(str(emp_1))\n",
    "print(repr(emp_1))\n",
    "print(emp_1 + 'James')"
   ]
  },
  {
   "cell_type": "markdown",
   "metadata": {},
   "source": [
    "## 11. Map"
   ]
  },
  {
   "cell_type": "markdown",
   "metadata": {},
   "source": [
    "map(function, iterable (such as list))\n",
    "map function takes each item of that iterable and run it to that function, and return it"
   ]
  },
  {
   "cell_type": "code",
   "execution_count": 168,
   "metadata": {},
   "outputs": [
    {
     "name": "stdout",
     "output_type": "stream",
     "text": [
      "result is a <class 'map'>\n",
      "2\n",
      "4\n",
      "6\n",
      "8\n"
     ]
    }
   ],
   "source": [
    "my_list = [1,2,3,4]\n",
    "\n",
    "def double(n):\n",
    "    return n * 2\n",
    "\n",
    "result = map(double, my_list)\n",
    "print(f'result is a {type(result)}') # like generator\n",
    "\n",
    "for item in result:\n",
    "    print(item)"
   ]
  },
  {
   "cell_type": "markdown",
   "metadata": {},
   "source": [
    "## 12. Filter"
   ]
  },
  {
   "cell_type": "markdown",
   "metadata": {},
   "source": [
    "filter(function, list) \n",
    "filter function take each item of the list and pass it in to the function (usually be a boolean func),\n",
    "if it returns true, it will save it into the filter class. Otherwise, it will be filtered out."
   ]
  },
  {
   "cell_type": "code",
   "execution_count": 174,
   "metadata": {},
   "outputs": [
    {
     "name": "stdout",
     "output_type": "stream",
     "text": [
      "fives and three are <class 'filter'> and <class 'filter'>\n",
      "[55, 100, 25]\n",
      "66\n",
      "123\n"
     ]
    }
   ],
   "source": [
    "def multOfFive(x):\n",
    "    return x%5 == 0 # filter method usually takes boolean function \n",
    "\n",
    "def multOfThree(y):\n",
    "    return y%3 == 0\n",
    "\n",
    "my_list= [66, 123, 23, 55, 100, 25, 11]\n",
    "\n",
    "fives = filter(multOfFive, my_list)\n",
    "threes = filter(multOfThree, my_list)\n",
    "\n",
    "print(f'fives and three are {type(fives)} and {type(threes)}') # like a generator\n",
    "\n",
    "print(list(fives))\n",
    "for item in threes:\n",
    "    print(item)"
   ]
  },
  {
   "cell_type": "markdown",
   "metadata": {},
   "source": [
    "## 13. Lambda"
   ]
  },
  {
   "cell_type": "markdown",
   "metadata": {},
   "source": [
    "lambda * args: function\n",
    "Lambda allows us to shorten the simple function to one line function. like so: "
   ]
  },
  {
   "cell_type": "code",
   "execution_count": 175,
   "metadata": {},
   "outputs": [
    {
     "name": "stdout",
     "output_type": "stream",
     "text": [
      "6\n"
     ]
    }
   ],
   "source": [
    "def double(x):\n",
    "    return x*2\n",
    "print(double(3))  # this function is quite simple, however, it takes multi lines to read"
   ]
  },
  {
   "cell_type": "code",
   "execution_count": 177,
   "metadata": {},
   "outputs": [
    {
     "name": "stdout",
     "output_type": "stream",
     "text": [
      "6\n"
     ]
    }
   ],
   "source": [
    "f = lambda n: n*2\n",
    "print(f(3))   # by using lambda expression, we can easily see it only takes 1 line of code to do the same job"
   ]
  },
  {
   "cell_type": "markdown",
   "metadata": {},
   "source": [
    "lambda can also take multiple parameters"
   ]
  },
  {
   "cell_type": "code",
   "execution_count": 179,
   "metadata": {},
   "outputs": [
    {
     "name": "stdout",
     "output_type": "stream",
     "text": [
      "8\n"
     ]
    }
   ],
   "source": [
    "f = lambda n, m: n*2 +m\n",
    "print(f(3,2))"
   ]
  },
  {
   "cell_type": "markdown",
   "metadata": {},
   "source": [
    "combined lambda with map function"
   ]
  },
  {
   "cell_type": "code",
   "execution_count": 180,
   "metadata": {},
   "outputs": [
    {
     "name": "stdout",
     "output_type": "stream",
     "text": [
      "[2, 4, 6, 8, 10]\n"
     ]
    }
   ],
   "source": [
    "my_list = [1,2,3,4,5]\n",
    "\n",
    "mapped = map(lambda x: x*2, my_list)\n",
    "print(list(mapped))"
   ]
  },
  {
   "cell_type": "markdown",
   "metadata": {},
   "source": [
    "## 14. if __name__ == '__main__'"
   ]
  },
  {
   "cell_type": "markdown",
   "metadata": {},
   "source": [
    "when you directly run the python file,  if __name__ == '__main__'will be true. \n",
    "Because the file you directly run will be called __main__\n",
    "however, if you import this file01 to another file02, and run that file02.\n",
    "if __name__ == '__main__' in this file01 will be false, as the file02 is currently called main. "
   ]
  },
  {
   "cell_type": "markdown",
   "metadata": {},
   "source": [
    "In sum, we use if __name__ == '__main__' only when we want to excute this file directly. "
   ]
  }
 ],
 "metadata": {
  "kernelspec": {
   "display_name": "Python 3",
   "language": "python",
   "name": "python3"
  },
  "language_info": {
   "codemirror_mode": {
    "name": "ipython",
    "version": 3
   },
   "file_extension": ".py",
   "mimetype": "text/x-python",
   "name": "python",
   "nbconvert_exporter": "python",
   "pygments_lexer": "ipython3",
   "version": "3.8.5"
  }
 },
 "nbformat": 4,
 "nbformat_minor": 4
}
